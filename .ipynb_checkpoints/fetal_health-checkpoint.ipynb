{
 "cells": [
  {
   "cell_type": "markdown",
   "metadata": {},
   "source": [
    "# Fetal Health Classification\n",
    "\n",
    "This tool was developed with the goal of helping predict fetal health in order to prevent child and maternal mortality."
   ]
  },
  {
   "cell_type": "markdown",
   "metadata": {},
   "source": [
    "## Context\n",
    "Reduction of child mortality is reflected in several of the United Nations' Sustainable Development Goals and is a key indicator of human progress.\n",
    "The UN expects that by 2030, countries end preventable deaths of newborns and children under 5 years of age, with all countries aiming to reduce under‑5 mortality to at least as low as 25 per 1,000 live births.\n",
    "\n",
    "Parallel to notion of child mortality is of course maternal mortality, which accounts for 295 000 deaths during and following pregnancy and childbirth (as of 2017). The vast majority of these deaths (94%) occurred in low-resource settings, and most could have been prevented.\n",
    "\n",
    "In light of what was mentioned above, Cardiotocograms (CTGs) are a simple and cost accessible option to assess fetal health, allowing healthcare professionals to take action in order to prevent child and maternal mortality. The equipment itself works by sending ultrasound pulses and reading its response, thus shedding light on fetal heart rate (FHR), fetal movements, uterine contractions and more."
   ]
  },
  {
   "cell_type": "markdown",
   "metadata": {},
   "source": [
    "## Project content\n",
    "* Data Exploration, Analysis and Visualization\n",
    "* Data cleaning\n",
    "* Data Transforming\n",
    "* Modeling and Hyperparameter tunning\n",
    "* Unsupervised training\n",
    "* Evaluation"
   ]
  },
  {
   "cell_type": "code",
   "execution_count": 1,
   "metadata": {},
   "outputs": [],
   "source": [
    "# Import libraries\n",
    "\n",
    "import warnings\n",
    "warnings.simplefilter(action =\"ignore\")\n",
    "warnings.filterwarnings('ignore')\n",
    "\n",
    "# Import the necessary packages\n",
    "import numpy as np\n",
    "import pandas as pd\n",
    "\n",
    "# Data visualization\n",
    "import matplotlib.pyplot as plt\n",
    "import seaborn as sns\n",
    "\n",
    "# Algorithms\n",
    "from sklearn.model_selection import train_test_split\n",
    "from sklearn.linear_model import LogisticRegression\n",
    "from sklearn.neighbors import KNeighborsClassifier\n",
    "from sklearn.ensemble import RandomForestClassifier\n",
    "from sklearn.ensemble import GradientBoostingClassifier\n",
    "from lightgbm import LGBMClassifier\n",
    "\n",
    "from sklearn.model_selection import RandomizedSearchCV\n",
    "from sklearn.model_selection import GridSearchCV\n",
    "from sklearn.metrics import classification_report"
   ]
  },
  {
   "cell_type": "code",
   "execution_count": 2,
   "metadata": {},
   "outputs": [],
   "source": [
    "# Load Dataset\n",
    "data = pd.read_csv('data/fetal_health.csv')\n",
    "\n",
    "X = data.drop('fetal_health', axis=1)\n",
    "y = data['fetal_health']\n",
    "\n",
    "X_train, X_test, y_train, y_test = train_test_split(\n",
    "    X, y, test_size=0.3, random_state=123)\n",
    "\n",
    "train = X_train.join(y_train)"
   ]
  },
  {
   "cell_type": "markdown",
   "metadata": {},
   "source": [
    "## Data Exploration, Visualization and Analysis\n",
    "### Exploration"
   ]
  },
  {
   "cell_type": "code",
   "execution_count": 3,
   "metadata": {
    "scrolled": true
   },
   "outputs": [
    {
     "data": {
      "text/html": [
       "<div>\n",
       "<style scoped>\n",
       "    .dataframe tbody tr th:only-of-type {\n",
       "        vertical-align: middle;\n",
       "    }\n",
       "\n",
       "    .dataframe tbody tr th {\n",
       "        vertical-align: top;\n",
       "    }\n",
       "\n",
       "    .dataframe thead th {\n",
       "        text-align: right;\n",
       "    }\n",
       "</style>\n",
       "<table border=\"1\" class=\"dataframe\">\n",
       "  <thead>\n",
       "    <tr style=\"text-align: right;\">\n",
       "      <th></th>\n",
       "      <th>baseline value</th>\n",
       "      <th>accelerations</th>\n",
       "      <th>fetal_movement</th>\n",
       "      <th>uterine_contractions</th>\n",
       "      <th>light_decelerations</th>\n",
       "      <th>severe_decelerations</th>\n",
       "      <th>prolongued_decelerations</th>\n",
       "      <th>abnormal_short_term_variability</th>\n",
       "      <th>mean_value_of_short_term_variability</th>\n",
       "      <th>percentage_of_time_with_abnormal_long_term_variability</th>\n",
       "      <th>...</th>\n",
       "      <th>histogram_min</th>\n",
       "      <th>histogram_max</th>\n",
       "      <th>histogram_number_of_peaks</th>\n",
       "      <th>histogram_number_of_zeroes</th>\n",
       "      <th>histogram_mode</th>\n",
       "      <th>histogram_mean</th>\n",
       "      <th>histogram_median</th>\n",
       "      <th>histogram_variance</th>\n",
       "      <th>histogram_tendency</th>\n",
       "      <th>fetal_health</th>\n",
       "    </tr>\n",
       "  </thead>\n",
       "  <tbody>\n",
       "    <tr>\n",
       "      <th>678</th>\n",
       "      <td>140.0</td>\n",
       "      <td>0.010</td>\n",
       "      <td>0.000</td>\n",
       "      <td>0.000</td>\n",
       "      <td>0.000</td>\n",
       "      <td>0.0</td>\n",
       "      <td>0.0</td>\n",
       "      <td>58.0</td>\n",
       "      <td>1.2</td>\n",
       "      <td>0.0</td>\n",
       "      <td>...</td>\n",
       "      <td>62.0</td>\n",
       "      <td>188.0</td>\n",
       "      <td>4.0</td>\n",
       "      <td>0.0</td>\n",
       "      <td>176.0</td>\n",
       "      <td>164.0</td>\n",
       "      <td>169.0</td>\n",
       "      <td>27.0</td>\n",
       "      <td>1.0</td>\n",
       "      <td>1.0</td>\n",
       "    </tr>\n",
       "    <tr>\n",
       "      <th>512</th>\n",
       "      <td>154.0</td>\n",
       "      <td>0.003</td>\n",
       "      <td>0.003</td>\n",
       "      <td>0.003</td>\n",
       "      <td>0.000</td>\n",
       "      <td>0.0</td>\n",
       "      <td>0.0</td>\n",
       "      <td>56.0</td>\n",
       "      <td>0.6</td>\n",
       "      <td>1.0</td>\n",
       "      <td>...</td>\n",
       "      <td>140.0</td>\n",
       "      <td>171.0</td>\n",
       "      <td>1.0</td>\n",
       "      <td>0.0</td>\n",
       "      <td>161.0</td>\n",
       "      <td>160.0</td>\n",
       "      <td>162.0</td>\n",
       "      <td>2.0</td>\n",
       "      <td>1.0</td>\n",
       "      <td>1.0</td>\n",
       "    </tr>\n",
       "    <tr>\n",
       "      <th>613</th>\n",
       "      <td>146.0</td>\n",
       "      <td>0.009</td>\n",
       "      <td>0.003</td>\n",
       "      <td>0.001</td>\n",
       "      <td>0.000</td>\n",
       "      <td>0.0</td>\n",
       "      <td>0.0</td>\n",
       "      <td>41.0</td>\n",
       "      <td>1.9</td>\n",
       "      <td>0.0</td>\n",
       "      <td>...</td>\n",
       "      <td>50.0</td>\n",
       "      <td>180.0</td>\n",
       "      <td>7.0</td>\n",
       "      <td>0.0</td>\n",
       "      <td>154.0</td>\n",
       "      <td>152.0</td>\n",
       "      <td>155.0</td>\n",
       "      <td>18.0</td>\n",
       "      <td>1.0</td>\n",
       "      <td>1.0</td>\n",
       "    </tr>\n",
       "    <tr>\n",
       "      <th>831</th>\n",
       "      <td>152.0</td>\n",
       "      <td>0.000</td>\n",
       "      <td>0.000</td>\n",
       "      <td>0.002</td>\n",
       "      <td>0.002</td>\n",
       "      <td>0.0</td>\n",
       "      <td>0.0</td>\n",
       "      <td>61.0</td>\n",
       "      <td>0.5</td>\n",
       "      <td>61.0</td>\n",
       "      <td>...</td>\n",
       "      <td>99.0</td>\n",
       "      <td>160.0</td>\n",
       "      <td>4.0</td>\n",
       "      <td>3.0</td>\n",
       "      <td>159.0</td>\n",
       "      <td>155.0</td>\n",
       "      <td>158.0</td>\n",
       "      <td>4.0</td>\n",
       "      <td>1.0</td>\n",
       "      <td>2.0</td>\n",
       "    </tr>\n",
       "    <tr>\n",
       "      <th>369</th>\n",
       "      <td>138.0</td>\n",
       "      <td>0.000</td>\n",
       "      <td>0.008</td>\n",
       "      <td>0.001</td>\n",
       "      <td>0.002</td>\n",
       "      <td>0.0</td>\n",
       "      <td>0.0</td>\n",
       "      <td>64.0</td>\n",
       "      <td>0.4</td>\n",
       "      <td>30.0</td>\n",
       "      <td>...</td>\n",
       "      <td>118.0</td>\n",
       "      <td>159.0</td>\n",
       "      <td>2.0</td>\n",
       "      <td>0.0</td>\n",
       "      <td>144.0</td>\n",
       "      <td>143.0</td>\n",
       "      <td>145.0</td>\n",
       "      <td>5.0</td>\n",
       "      <td>0.0</td>\n",
       "      <td>2.0</td>\n",
       "    </tr>\n",
       "  </tbody>\n",
       "</table>\n",
       "<p>5 rows × 22 columns</p>\n",
       "</div>"
      ],
      "text/plain": [
       "     baseline value  accelerations  fetal_movement  uterine_contractions  \\\n",
       "678           140.0          0.010           0.000                 0.000   \n",
       "512           154.0          0.003           0.003                 0.003   \n",
       "613           146.0          0.009           0.003                 0.001   \n",
       "831           152.0          0.000           0.000                 0.002   \n",
       "369           138.0          0.000           0.008                 0.001   \n",
       "\n",
       "     light_decelerations  severe_decelerations  prolongued_decelerations  \\\n",
       "678                0.000                   0.0                       0.0   \n",
       "512                0.000                   0.0                       0.0   \n",
       "613                0.000                   0.0                       0.0   \n",
       "831                0.002                   0.0                       0.0   \n",
       "369                0.002                   0.0                       0.0   \n",
       "\n",
       "     abnormal_short_term_variability  mean_value_of_short_term_variability  \\\n",
       "678                             58.0                                   1.2   \n",
       "512                             56.0                                   0.6   \n",
       "613                             41.0                                   1.9   \n",
       "831                             61.0                                   0.5   \n",
       "369                             64.0                                   0.4   \n",
       "\n",
       "     percentage_of_time_with_abnormal_long_term_variability  ...  \\\n",
       "678                                                0.0       ...   \n",
       "512                                                1.0       ...   \n",
       "613                                                0.0       ...   \n",
       "831                                               61.0       ...   \n",
       "369                                               30.0       ...   \n",
       "\n",
       "     histogram_min  histogram_max  histogram_number_of_peaks  \\\n",
       "678           62.0          188.0                        4.0   \n",
       "512          140.0          171.0                        1.0   \n",
       "613           50.0          180.0                        7.0   \n",
       "831           99.0          160.0                        4.0   \n",
       "369          118.0          159.0                        2.0   \n",
       "\n",
       "     histogram_number_of_zeroes  histogram_mode  histogram_mean  \\\n",
       "678                         0.0           176.0           164.0   \n",
       "512                         0.0           161.0           160.0   \n",
       "613                         0.0           154.0           152.0   \n",
       "831                         3.0           159.0           155.0   \n",
       "369                         0.0           144.0           143.0   \n",
       "\n",
       "     histogram_median  histogram_variance  histogram_tendency  fetal_health  \n",
       "678             169.0                27.0                 1.0           1.0  \n",
       "512             162.0                 2.0                 1.0           1.0  \n",
       "613             155.0                18.0                 1.0           1.0  \n",
       "831             158.0                 4.0                 1.0           2.0  \n",
       "369             145.0                 5.0                 0.0           2.0  \n",
       "\n",
       "[5 rows x 22 columns]"
      ]
     },
     "execution_count": 3,
     "metadata": {},
     "output_type": "execute_result"
    }
   ],
   "source": [
    "train.head(5)"
   ]
  },
  {
   "cell_type": "code",
   "execution_count": 4,
   "metadata": {},
   "outputs": [
    {
     "name": "stdout",
     "output_type": "stream",
     "text": [
      "<class 'pandas.core.frame.DataFrame'>\n",
      "Int64Index: 1488 entries, 678 to 1346\n",
      "Data columns (total 22 columns):\n",
      " #   Column                                                  Non-Null Count  Dtype  \n",
      "---  ------                                                  --------------  -----  \n",
      " 0   baseline value                                          1488 non-null   float64\n",
      " 1   accelerations                                           1488 non-null   float64\n",
      " 2   fetal_movement                                          1488 non-null   float64\n",
      " 3   uterine_contractions                                    1488 non-null   float64\n",
      " 4   light_decelerations                                     1488 non-null   float64\n",
      " 5   severe_decelerations                                    1488 non-null   float64\n",
      " 6   prolongued_decelerations                                1488 non-null   float64\n",
      " 7   abnormal_short_term_variability                         1488 non-null   float64\n",
      " 8   mean_value_of_short_term_variability                    1488 non-null   float64\n",
      " 9   percentage_of_time_with_abnormal_long_term_variability  1488 non-null   float64\n",
      " 10  mean_value_of_long_term_variability                     1488 non-null   float64\n",
      " 11  histogram_width                                         1488 non-null   float64\n",
      " 12  histogram_min                                           1488 non-null   float64\n",
      " 13  histogram_max                                           1488 non-null   float64\n",
      " 14  histogram_number_of_peaks                               1488 non-null   float64\n",
      " 15  histogram_number_of_zeroes                              1488 non-null   float64\n",
      " 16  histogram_mode                                          1488 non-null   float64\n",
      " 17  histogram_mean                                          1488 non-null   float64\n",
      " 18  histogram_median                                        1488 non-null   float64\n",
      " 19  histogram_variance                                      1488 non-null   float64\n",
      " 20  histogram_tendency                                      1488 non-null   float64\n",
      " 21  fetal_health                                            1488 non-null   float64\n",
      "dtypes: float64(22)\n",
      "memory usage: 307.4 KB\n"
     ]
    }
   ],
   "source": [
    "train.info()"
   ]
  },
  {
   "cell_type": "code",
   "execution_count": 5,
   "metadata": {},
   "outputs": [
    {
     "data": {
      "text/html": [
       "<div>\n",
       "<style scoped>\n",
       "    .dataframe tbody tr th:only-of-type {\n",
       "        vertical-align: middle;\n",
       "    }\n",
       "\n",
       "    .dataframe tbody tr th {\n",
       "        vertical-align: top;\n",
       "    }\n",
       "\n",
       "    .dataframe thead th {\n",
       "        text-align: right;\n",
       "    }\n",
       "</style>\n",
       "<table border=\"1\" class=\"dataframe\">\n",
       "  <thead>\n",
       "    <tr style=\"text-align: right;\">\n",
       "      <th></th>\n",
       "      <th>count</th>\n",
       "      <th>mean</th>\n",
       "      <th>std</th>\n",
       "      <th>min</th>\n",
       "      <th>25%</th>\n",
       "      <th>50%</th>\n",
       "      <th>75%</th>\n",
       "      <th>max</th>\n",
       "    </tr>\n",
       "  </thead>\n",
       "  <tbody>\n",
       "    <tr>\n",
       "      <th>baseline value</th>\n",
       "      <td>1488.0</td>\n",
       "      <td>133.290995</td>\n",
       "      <td>9.883484</td>\n",
       "      <td>106.0</td>\n",
       "      <td>126.000</td>\n",
       "      <td>133.000</td>\n",
       "      <td>141.000</td>\n",
       "      <td>160.000</td>\n",
       "    </tr>\n",
       "    <tr>\n",
       "      <th>accelerations</th>\n",
       "      <td>1488.0</td>\n",
       "      <td>0.003185</td>\n",
       "      <td>0.003862</td>\n",
       "      <td>0.0</td>\n",
       "      <td>0.000</td>\n",
       "      <td>0.002</td>\n",
       "      <td>0.006</td>\n",
       "      <td>0.018</td>\n",
       "    </tr>\n",
       "    <tr>\n",
       "      <th>fetal_movement</th>\n",
       "      <td>1488.0</td>\n",
       "      <td>0.008259</td>\n",
       "      <td>0.042758</td>\n",
       "      <td>0.0</td>\n",
       "      <td>0.000</td>\n",
       "      <td>0.000</td>\n",
       "      <td>0.003</td>\n",
       "      <td>0.481</td>\n",
       "    </tr>\n",
       "    <tr>\n",
       "      <th>uterine_contractions</th>\n",
       "      <td>1488.0</td>\n",
       "      <td>0.004313</td>\n",
       "      <td>0.002934</td>\n",
       "      <td>0.0</td>\n",
       "      <td>0.002</td>\n",
       "      <td>0.004</td>\n",
       "      <td>0.006</td>\n",
       "      <td>0.014</td>\n",
       "    </tr>\n",
       "    <tr>\n",
       "      <th>light_decelerations</th>\n",
       "      <td>1488.0</td>\n",
       "      <td>0.001862</td>\n",
       "      <td>0.002961</td>\n",
       "      <td>0.0</td>\n",
       "      <td>0.000</td>\n",
       "      <td>0.000</td>\n",
       "      <td>0.003</td>\n",
       "      <td>0.015</td>\n",
       "    </tr>\n",
       "    <tr>\n",
       "      <th>severe_decelerations</th>\n",
       "      <td>1488.0</td>\n",
       "      <td>0.000003</td>\n",
       "      <td>0.000052</td>\n",
       "      <td>0.0</td>\n",
       "      <td>0.000</td>\n",
       "      <td>0.000</td>\n",
       "      <td>0.000</td>\n",
       "      <td>0.001</td>\n",
       "    </tr>\n",
       "    <tr>\n",
       "      <th>prolongued_decelerations</th>\n",
       "      <td>1488.0</td>\n",
       "      <td>0.000141</td>\n",
       "      <td>0.000535</td>\n",
       "      <td>0.0</td>\n",
       "      <td>0.000</td>\n",
       "      <td>0.000</td>\n",
       "      <td>0.000</td>\n",
       "      <td>0.005</td>\n",
       "    </tr>\n",
       "    <tr>\n",
       "      <th>abnormal_short_term_variability</th>\n",
       "      <td>1488.0</td>\n",
       "      <td>47.096102</td>\n",
       "      <td>17.085395</td>\n",
       "      <td>12.0</td>\n",
       "      <td>32.000</td>\n",
       "      <td>49.000</td>\n",
       "      <td>61.000</td>\n",
       "      <td>87.000</td>\n",
       "    </tr>\n",
       "    <tr>\n",
       "      <th>mean_value_of_short_term_variability</th>\n",
       "      <td>1488.0</td>\n",
       "      <td>1.328831</td>\n",
       "      <td>0.886662</td>\n",
       "      <td>0.2</td>\n",
       "      <td>0.700</td>\n",
       "      <td>1.200</td>\n",
       "      <td>1.700</td>\n",
       "      <td>7.000</td>\n",
       "    </tr>\n",
       "    <tr>\n",
       "      <th>percentage_of_time_with_abnormal_long_term_variability</th>\n",
       "      <td>1488.0</td>\n",
       "      <td>9.983871</td>\n",
       "      <td>18.577807</td>\n",
       "      <td>0.0</td>\n",
       "      <td>0.000</td>\n",
       "      <td>0.000</td>\n",
       "      <td>11.000</td>\n",
       "      <td>91.000</td>\n",
       "    </tr>\n",
       "    <tr>\n",
       "      <th>mean_value_of_long_term_variability</th>\n",
       "      <td>1488.0</td>\n",
       "      <td>8.246438</td>\n",
       "      <td>5.693201</td>\n",
       "      <td>0.0</td>\n",
       "      <td>4.600</td>\n",
       "      <td>7.500</td>\n",
       "      <td>10.900</td>\n",
       "      <td>50.700</td>\n",
       "    </tr>\n",
       "    <tr>\n",
       "      <th>histogram_width</th>\n",
       "      <td>1488.0</td>\n",
       "      <td>69.969758</td>\n",
       "      <td>39.372667</td>\n",
       "      <td>3.0</td>\n",
       "      <td>36.000</td>\n",
       "      <td>67.000</td>\n",
       "      <td>100.250</td>\n",
       "      <td>176.000</td>\n",
       "    </tr>\n",
       "    <tr>\n",
       "      <th>histogram_min</th>\n",
       "      <td>1488.0</td>\n",
       "      <td>93.774194</td>\n",
       "      <td>29.700954</td>\n",
       "      <td>50.0</td>\n",
       "      <td>67.000</td>\n",
       "      <td>93.000</td>\n",
       "      <td>120.000</td>\n",
       "      <td>155.000</td>\n",
       "    </tr>\n",
       "    <tr>\n",
       "      <th>histogram_max</th>\n",
       "      <td>1488.0</td>\n",
       "      <td>163.743952</td>\n",
       "      <td>18.140627</td>\n",
       "      <td>122.0</td>\n",
       "      <td>151.000</td>\n",
       "      <td>162.000</td>\n",
       "      <td>174.000</td>\n",
       "      <td>238.000</td>\n",
       "    </tr>\n",
       "    <tr>\n",
       "      <th>histogram_number_of_peaks</th>\n",
       "      <td>1488.0</td>\n",
       "      <td>4.040995</td>\n",
       "      <td>3.005767</td>\n",
       "      <td>0.0</td>\n",
       "      <td>2.000</td>\n",
       "      <td>3.000</td>\n",
       "      <td>6.000</td>\n",
       "      <td>18.000</td>\n",
       "    </tr>\n",
       "    <tr>\n",
       "      <th>histogram_number_of_zeroes</th>\n",
       "      <td>1488.0</td>\n",
       "      <td>0.327957</td>\n",
       "      <td>0.753364</td>\n",
       "      <td>0.0</td>\n",
       "      <td>0.000</td>\n",
       "      <td>0.000</td>\n",
       "      <td>0.000</td>\n",
       "      <td>10.000</td>\n",
       "    </tr>\n",
       "    <tr>\n",
       "      <th>histogram_mode</th>\n",
       "      <td>1488.0</td>\n",
       "      <td>137.543683</td>\n",
       "      <td>16.182615</td>\n",
       "      <td>60.0</td>\n",
       "      <td>129.000</td>\n",
       "      <td>139.000</td>\n",
       "      <td>148.000</td>\n",
       "      <td>187.000</td>\n",
       "    </tr>\n",
       "    <tr>\n",
       "      <th>histogram_mean</th>\n",
       "      <td>1488.0</td>\n",
       "      <td>134.691532</td>\n",
       "      <td>15.432030</td>\n",
       "      <td>73.0</td>\n",
       "      <td>125.000</td>\n",
       "      <td>136.000</td>\n",
       "      <td>145.000</td>\n",
       "      <td>180.000</td>\n",
       "    </tr>\n",
       "    <tr>\n",
       "      <th>histogram_median</th>\n",
       "      <td>1488.0</td>\n",
       "      <td>138.201613</td>\n",
       "      <td>14.269137</td>\n",
       "      <td>79.0</td>\n",
       "      <td>129.000</td>\n",
       "      <td>139.000</td>\n",
       "      <td>148.000</td>\n",
       "      <td>183.000</td>\n",
       "    </tr>\n",
       "    <tr>\n",
       "      <th>histogram_variance</th>\n",
       "      <td>1488.0</td>\n",
       "      <td>18.342742</td>\n",
       "      <td>28.499592</td>\n",
       "      <td>0.0</td>\n",
       "      <td>2.000</td>\n",
       "      <td>7.000</td>\n",
       "      <td>23.000</td>\n",
       "      <td>269.000</td>\n",
       "    </tr>\n",
       "    <tr>\n",
       "      <th>histogram_tendency</th>\n",
       "      <td>1488.0</td>\n",
       "      <td>0.324597</td>\n",
       "      <td>0.603854</td>\n",
       "      <td>-1.0</td>\n",
       "      <td>0.000</td>\n",
       "      <td>0.000</td>\n",
       "      <td>1.000</td>\n",
       "      <td>1.000</td>\n",
       "    </tr>\n",
       "    <tr>\n",
       "      <th>fetal_health</th>\n",
       "      <td>1488.0</td>\n",
       "      <td>1.301747</td>\n",
       "      <td>0.609009</td>\n",
       "      <td>1.0</td>\n",
       "      <td>1.000</td>\n",
       "      <td>1.000</td>\n",
       "      <td>1.000</td>\n",
       "      <td>3.000</td>\n",
       "    </tr>\n",
       "  </tbody>\n",
       "</table>\n",
       "</div>"
      ],
      "text/plain": [
       "                                                     count        mean  \\\n",
       "baseline value                                      1488.0  133.290995   \n",
       "accelerations                                       1488.0    0.003185   \n",
       "fetal_movement                                      1488.0    0.008259   \n",
       "uterine_contractions                                1488.0    0.004313   \n",
       "light_decelerations                                 1488.0    0.001862   \n",
       "severe_decelerations                                1488.0    0.000003   \n",
       "prolongued_decelerations                            1488.0    0.000141   \n",
       "abnormal_short_term_variability                     1488.0   47.096102   \n",
       "mean_value_of_short_term_variability                1488.0    1.328831   \n",
       "percentage_of_time_with_abnormal_long_term_vari...  1488.0    9.983871   \n",
       "mean_value_of_long_term_variability                 1488.0    8.246438   \n",
       "histogram_width                                     1488.0   69.969758   \n",
       "histogram_min                                       1488.0   93.774194   \n",
       "histogram_max                                       1488.0  163.743952   \n",
       "histogram_number_of_peaks                           1488.0    4.040995   \n",
       "histogram_number_of_zeroes                          1488.0    0.327957   \n",
       "histogram_mode                                      1488.0  137.543683   \n",
       "histogram_mean                                      1488.0  134.691532   \n",
       "histogram_median                                    1488.0  138.201613   \n",
       "histogram_variance                                  1488.0   18.342742   \n",
       "histogram_tendency                                  1488.0    0.324597   \n",
       "fetal_health                                        1488.0    1.301747   \n",
       "\n",
       "                                                          std    min      25%  \\\n",
       "baseline value                                       9.883484  106.0  126.000   \n",
       "accelerations                                        0.003862    0.0    0.000   \n",
       "fetal_movement                                       0.042758    0.0    0.000   \n",
       "uterine_contractions                                 0.002934    0.0    0.002   \n",
       "light_decelerations                                  0.002961    0.0    0.000   \n",
       "severe_decelerations                                 0.000052    0.0    0.000   \n",
       "prolongued_decelerations                             0.000535    0.0    0.000   \n",
       "abnormal_short_term_variability                     17.085395   12.0   32.000   \n",
       "mean_value_of_short_term_variability                 0.886662    0.2    0.700   \n",
       "percentage_of_time_with_abnormal_long_term_vari...  18.577807    0.0    0.000   \n",
       "mean_value_of_long_term_variability                  5.693201    0.0    4.600   \n",
       "histogram_width                                     39.372667    3.0   36.000   \n",
       "histogram_min                                       29.700954   50.0   67.000   \n",
       "histogram_max                                       18.140627  122.0  151.000   \n",
       "histogram_number_of_peaks                            3.005767    0.0    2.000   \n",
       "histogram_number_of_zeroes                           0.753364    0.0    0.000   \n",
       "histogram_mode                                      16.182615   60.0  129.000   \n",
       "histogram_mean                                      15.432030   73.0  125.000   \n",
       "histogram_median                                    14.269137   79.0  129.000   \n",
       "histogram_variance                                  28.499592    0.0    2.000   \n",
       "histogram_tendency                                   0.603854   -1.0    0.000   \n",
       "fetal_health                                         0.609009    1.0    1.000   \n",
       "\n",
       "                                                        50%      75%      max  \n",
       "baseline value                                      133.000  141.000  160.000  \n",
       "accelerations                                         0.002    0.006    0.018  \n",
       "fetal_movement                                        0.000    0.003    0.481  \n",
       "uterine_contractions                                  0.004    0.006    0.014  \n",
       "light_decelerations                                   0.000    0.003    0.015  \n",
       "severe_decelerations                                  0.000    0.000    0.001  \n",
       "prolongued_decelerations                              0.000    0.000    0.005  \n",
       "abnormal_short_term_variability                      49.000   61.000   87.000  \n",
       "mean_value_of_short_term_variability                  1.200    1.700    7.000  \n",
       "percentage_of_time_with_abnormal_long_term_vari...    0.000   11.000   91.000  \n",
       "mean_value_of_long_term_variability                   7.500   10.900   50.700  \n",
       "histogram_width                                      67.000  100.250  176.000  \n",
       "histogram_min                                        93.000  120.000  155.000  \n",
       "histogram_max                                       162.000  174.000  238.000  \n",
       "histogram_number_of_peaks                             3.000    6.000   18.000  \n",
       "histogram_number_of_zeroes                            0.000    0.000   10.000  \n",
       "histogram_mode                                      139.000  148.000  187.000  \n",
       "histogram_mean                                      136.000  145.000  180.000  \n",
       "histogram_median                                    139.000  148.000  183.000  \n",
       "histogram_variance                                    7.000   23.000  269.000  \n",
       "histogram_tendency                                    0.000    1.000    1.000  \n",
       "fetal_health                                          1.000    1.000    3.000  "
      ]
     },
     "execution_count": 5,
     "metadata": {},
     "output_type": "execute_result"
    }
   ],
   "source": [
    "train.describe().T"
   ]
  },
  {
   "cell_type": "markdown",
   "metadata": {},
   "source": [
    "### Visualization"
   ]
  },
  {
   "cell_type": "code",
   "execution_count": 6,
   "metadata": {},
   "outputs": [],
   "source": [
    "# Definition of a function to visualize correlation between variables\n",
    "import seaborn as sn\n",
    "import matplotlib.pyplot as plt\n",
    "\n",
    "\n",
    "def plot_correlation(df):\n",
    "    corr_matrix = df.corr()\n",
    "    heat_map = sn.heatmap(corr_matrix, annot=False)\n",
    "    plt.show(heat_map)"
   ]
  },
  {
   "cell_type": "markdown",
   "metadata": {},
   "source": [
    "Lets visualize first and comprehend the meaning behind our target variable, fetal_health"
   ]
  },
  {
   "cell_type": "code",
   "execution_count": 7,
   "metadata": {
    "scrolled": false
   },
   "outputs": [
    {
     "data": {
      "text/plain": [
       "<matplotlib.axes._subplots.AxesSubplot at 0x25ed6e2cb20>"
      ]
     },
     "execution_count": 7,
     "metadata": {},
     "output_type": "execute_result"
    },
    {
     "data": {
      "image/png": "[encoded data removed]",
      "text/plain": [
       "<Figure size 504x504 with 1 Axes>"
      ]
     },
     "metadata": {},
     "output_type": "display_data"
    }
   ],
   "source": [
    "train.groupby(['fetal_health']).count().plot(kind='pie', y='accelerations', autopct='%1.1f%%',\n",
    "                                             startangle=90, labels=['Normal', 'Suspect', 'Pathological'], figsize=(7, 7))"
   ]
  },
  {
   "cell_type": "code",
   "execution_count": 8,
   "metadata": {},
   "outputs": [
    {
     "data": {
      "image/png": "[encoded data removed]",
      "text/plain": [
       "<Figure size 432x288 with 2 Axes>"
      ]
     },
     "metadata": {
      "needs_background": "light"
     },
     "output_type": "display_data"
    }
   ],
   "source": [
    "plot_correlation(train)"
   ]
  },
  {
   "cell_type": "code",
   "execution_count": 9,
   "metadata": {
    "scrolled": true
   },
   "outputs": [
    {
     "data": {
      "image/png": "[encoded data removed]",
      "text/plain": [
       "<Figure size 1440x1440 with 25 Axes>"
      ]
     },
     "metadata": {
      "needs_background": "light"
     },
     "output_type": "display_data"
    }
   ],
   "source": [
    "data_hist_plot = data.hist(figsize = (20,20), color = \"#5F9EA0\")"
   ]
  },
  {
   "cell_type": "markdown",
   "metadata": {},
   "source": [
    "### Analysis"
   ]
  },
  {
   "cell_type": "markdown",
   "metadata": {},
   "source": [
    "## Data Cleaning"
   ]
  },
  {
   "cell_type": "code",
   "execution_count": null,
   "metadata": {
    "scrolled": false
   },
   "outputs": [],
   "source": [
    "from sklearn.ensemble import ExtraTreesRegressor\n",
    "import matplotlib.pyplot as plt\n",
    "etr_model = ExtraTreesRegressor()\n",
    "etr_model.fit(X_train, y_train)\n",
    "\n",
    "feat_importances = pd.Series(etr_model.feature_importances_)\n",
    "feat_importances.nlargest(30).plot(kind='barh', figsize=(10, 10))\n",
    "plt.show()"
   ]
  },
  {
   "cell_type": "code",
   "execution_count": null,
   "metadata": {},
   "outputs": [],
   "source": [
    "selected_features = etr_model.feature_importances_\n",
    "\n",
    "selected = [index for index in range(\n",
    "    selected_features.size) if selected_features[index] >= 0.06]"
   ]
  },
  {
   "cell_type": "code",
   "execution_count": null,
   "metadata": {},
   "outputs": [],
   "source": [
    "X_train = X_train.iloc[:, selected]\n",
    "X_test = X_test.iloc[:, selected]"
   ]
  },
  {
   "cell_type": "markdown",
   "metadata": {},
   "source": [
    "## Data Transforming"
   ]
  },
  {
   "cell_type": "code",
   "execution_count": null,
   "metadata": {},
   "outputs": [],
   "source": [
    "from sklearn.preprocessing import MinMaxScaler\n",
    "from sklearn.compose import ColumnTransformer"
   ]
  },
  {
   "cell_type": "code",
   "execution_count": null,
   "metadata": {},
   "outputs": [],
   "source": [
    "dif_values = y_train.unique()"
   ]
  },
  {
   "cell_type": "code",
   "execution_count": null,
   "metadata": {},
   "outputs": [],
   "source": [
    "# Now we create the transformers\n",
    "t_norm = (\"normalizer\", MinMaxScaler(feature_range=(0, 1)), X_train.columns)"
   ]
  },
  {
   "cell_type": "code",
   "execution_count": null,
   "metadata": {},
   "outputs": [],
   "source": [
    "column_transformer_X = ColumnTransformer(\n",
    "    transformers=[t_norm], remainder='passthrough')\n",
    "\n",
    "column_transformer_X.fit(X_train);"
   ]
  },
  {
   "cell_type": "code",
   "execution_count": null,
   "metadata": {},
   "outputs": [],
   "source": [
    "X_train = column_transformer_X.transform(X_train)\n",
    "X_test = column_transformer_X.transform(X_test)"
   ]
  },
  {
   "cell_type": "markdown",
   "metadata": {},
   "source": [
    "## Modeling and Hyperparameter tunning"
   ]
  },
  {
   "cell_type": "code",
   "execution_count": null,
   "metadata": {},
   "outputs": [],
   "source": [
    "from sklearn.metrics import make_scorer\n",
    "from sklearn.pipeline import make_pipeline\n",
    "from sklearn.pipeline import Pipeline\n",
    "\n",
    "\n",
    "from sklearn.metrics import accuracy_score\n",
    "from sklearn.metrics import classification_report\n",
    "from lightgbm import LGBMClassifier\n",
    "\n",
    "\n",
    "from sklearn import tree\n",
    "from sklearn.ensemble import GradientBoostingClassifier"
   ]
  },
  {
   "cell_type": "code",
   "execution_count": null,
   "metadata": {},
   "outputs": [],
   "source": [
    "X_val_train, X_val_test, y_val_train, y_val_test = train_test_split(\n",
    "    X_train, y_train, test_size=0.20, random_state=123)"
   ]
  },
  {
   "cell_type": "code",
   "execution_count": null,
   "metadata": {},
   "outputs": [],
   "source": [
    "scorer = make_scorer(accuracy_score, greater_is_better=True)"
   ]
  },
  {
   "cell_type": "markdown",
   "metadata": {},
   "source": [
    "### Decision Tree Classifier"
   ]
  },
  {
   "cell_type": "code",
   "execution_count": 64,
   "metadata": {},
   "outputs": [
    {
     "name": "stdout",
     "output_type": "stream",
     "text": [
      "Fitting 10 folds for each of 3168 candidates, totalling 31680 fits\n"
     ]
    },
    {
     "name": "stderr",
     "output_type": "stream",
     "text": [
      "[Parallel(n_jobs=-1)]: Using backend LokyBackend with 12 concurrent workers.\n",
      "[Parallel(n_jobs=-1)]: Done  17 tasks      | elapsed:    1.3s\n",
      "[Parallel(n_jobs=-1)]: Done 492 tasks      | elapsed:    1.8s\n",
      "[Parallel(n_jobs=-1)]: Done 20620 tasks      | elapsed:    7.3s\n",
      "[Parallel(n_jobs=-1)]: Done 31680 out of 31680 | elapsed:    9.8s finished\n"
     ]
    }
   ],
   "source": [
    "pipe_tree = tree.DecisionTreeClassifier(random_state=123)\n",
    "\n",
    "criteria = ['gini', 'entropy']\n",
    "splitter = ['best', 'random']\n",
    "max_depth = [int(x) for x in np.linspace(10, 110, num=22)]\n",
    "max_features = ['auto', 'sqrt', 'log2', None]\n",
    "min_samples_split = [2, 5, 10]\n",
    "min_samples_leaf = [1, 2, 4]\n",
    "\n",
    "param_grid_tree = {'max_features': max_features,\n",
    "                   'max_depth': max_depth,\n",
    "                   'min_samples_split': min_samples_split,\n",
    "                   'min_samples_leaf': min_samples_leaf,\n",
    "                   'criterion': criteria,\n",
    "                   'splitter': splitter\n",
    "                   }\n",
    "\n",
    "gs_tree = GridSearchCV(estimator=pipe_tree, param_grid=param_grid_tree,\n",
    "                       cv=10, verbose=2, n_jobs=-1)\n",
    "best_tree = gs_tree.fit(X_val_train, y_val_train)"
   ]
  },
  {
   "cell_type": "code",
   "execution_count": 65,
   "metadata": {},
   "outputs": [
    {
     "name": "stdout",
     "output_type": "stream",
     "text": [
      "              precision    recall  f1-score   support\n",
      "\n",
      "         1.0       0.95      0.96      0.96       240\n",
      "         2.0       0.78      0.73      0.75        44\n",
      "         3.0       0.69      0.79      0.73        14\n",
      "\n",
      "    accuracy                           0.92       298\n",
      "   macro avg       0.81      0.82      0.81       298\n",
      "weighted avg       0.92      0.92      0.92       298\n",
      "\n"
     ]
    }
   ],
   "source": [
    "print(classification_report(y_val_test,best_tree.predict(X_val_test)))"
   ]
  },
  {
   "cell_type": "code",
   "execution_count": 66,
   "metadata": {},
   "outputs": [
    {
     "name": "stdout",
     "output_type": "stream",
     "text": [
      "{'criterion': 'gini', 'max_depth': 10, 'max_features': 'auto', 'min_samples_leaf': 2, 'min_samples_split': 5, 'splitter': 'best'}\n"
     ]
    }
   ],
   "source": [
    "print(best_tree.best_params_)"
   ]
  },
  {
   "cell_type": "markdown",
   "metadata": {},
   "source": [
    "### Logistic regression"
   ]
  },
  {
   "cell_type": "code",
   "execution_count": 67,
   "metadata": {},
   "outputs": [
    {
     "name": "stderr",
     "output_type": "stream",
     "text": [
      "[Parallel(n_jobs=-1)]: Using backend LokyBackend with 12 concurrent workers.\n",
      "[Parallel(n_jobs=-1)]: Done  17 tasks      | elapsed:    0.0s\n"
     ]
    },
    {
     "name": "stdout",
     "output_type": "stream",
     "text": [
      "Fitting 10 folds for each of 48000 candidates, totalling 480000 fits\n"
     ]
    },
    {
     "name": "stderr",
     "output_type": "stream",
     "text": [
      "[Parallel(n_jobs=-1)]: Done 1320 tasks      | elapsed:    0.6s\n",
      "[Parallel(n_jobs=-1)]: Done 14120 tasks      | elapsed:    3.8s\n",
      "[Parallel(n_jobs=-1)]: Done 32232 tasks      | elapsed:   12.4s\n",
      "[Parallel(n_jobs=-1)]: Done 55592 tasks      | elapsed:   22.0s\n",
      "[Parallel(n_jobs=-1)]: Done 73224 tasks      | elapsed:   37.5s\n",
      "[Parallel(n_jobs=-1)]: Done 98172 tasks      | elapsed:   52.0s\n",
      "[Parallel(n_jobs=-1)]: Done 122700 tasks      | elapsed:  1.2min\n",
      "[Parallel(n_jobs=-1)]: Done 164280 tasks      | elapsed:  1.6min\n",
      "[Parallel(n_jobs=-1)]: Done 201336 tasks      | elapsed:  2.0min\n",
      "[Parallel(n_jobs=-1)]: Done 254874 tasks      | elapsed:  2.6min\n",
      "[Parallel(n_jobs=-1)]: Done 298032 tasks      | elapsed:  3.0min\n",
      "[Parallel(n_jobs=-1)]: Done 353130 tasks      | elapsed:  3.7min\n",
      "[Parallel(n_jobs=-1)]: Done 406570 tasks      | elapsed:  4.3min\n",
      "[Parallel(n_jobs=-1)]: Done 469368 tasks      | elapsed:  4.9min\n",
      "[Parallel(n_jobs=-1)]: Done 480000 out of 480000 | elapsed:  5.1min finished\n"
     ]
    },
    {
     "data": {
      "text/plain": [
       "GridSearchCV(cv=10, estimator=LogisticRegression(), n_jobs=-1,\n",
       "             param_grid={'C': array([1.0000000e-04, 1.1111112e+03, 2.2222223e+03, 3.3333334e+03,\n",
       "       4.4444445e+03, 5.5555556e+03, 6.6666667e+03, 7.7777778e+03,\n",
       "       8.8888889e+03, 1.0000000e+04]),\n",
       "                         'class_weight': ['balanced', None],\n",
       "                         'dual': [True, False], 'fit_intercept': [True, False],\n",
       "                         'multi_class': ['auto', 'ovr', 'multinomial'],\n",
       "                         'penalty': ['l1', 'l2', 'elasticnet', 'none'],\n",
       "                         'solver': ['newton-cg', 'lbfgs', 'liblinear', 'sag',\n",
       "                                    'saga'],\n",
       "                         'tol': array([0.0001, 0.0012, 0.0023, 0.0034, 0.0045, 0.0056, 0.0067, 0.0078,\n",
       "       0.0089, 0.01  ])},\n",
       "             verbose=2)"
      ]
     },
     "execution_count": 67,
     "metadata": {},
     "output_type": "execute_result"
    }
   ],
   "source": [
    "pipe_lr = LogisticRegression()\n",
    "\n",
    "penalty = ['l1', 'l2', 'elasticnet', 'none']\n",
    "dual = [True, False]\n",
    "c = np.linspace(0.0001, 10000, num=10)\n",
    "tol = np.linspace(1e-4, 1e-2, num=10)\n",
    "fit_intercept = [True, False]\n",
    "class_weight = ['balanced', None]\n",
    "solver = ['newton-cg', 'lbfgs', 'liblinear', 'sag', 'saga']\n",
    "multi_class = ['auto', 'ovr', 'multinomial']\n",
    "\n",
    "param_grid_lr = {'penalty': penalty,\n",
    "                 'dual': dual,\n",
    "                 'C': c,\n",
    "                 'tol': tol,\n",
    "                 'fit_intercept': fit_intercept,\n",
    "                 'class_weight': class_weight,\n",
    "                 'solver': solver,\n",
    "                 'multi_class': multi_class}\n",
    "\n",
    "gs_lr = GridSearchCV(estimator=pipe_lr, param_grid=param_grid_lr,\n",
    "                     cv=10, verbose=2, n_jobs=-1)\n",
    "gs_lr.fit(X_val_train, y_val_train)"
   ]
  },
  {
   "cell_type": "code",
   "execution_count": 68,
   "metadata": {},
   "outputs": [
    {
     "name": "stdout",
     "output_type": "stream",
     "text": [
      "              precision    recall  f1-score   support\n",
      "\n",
      "         1.0       0.95      0.93      0.94       247\n",
      "         2.0       0.57      0.74      0.64        34\n",
      "         3.0       0.86      0.71      0.77        17\n",
      "\n",
      "    accuracy                           0.89       298\n",
      "   macro avg       0.79      0.79      0.79       298\n",
      "weighted avg       0.90      0.89      0.90       298\n",
      "\n"
     ]
    }
   ],
   "source": [
    "print(classification_report(gs_lr.best_estimator_.predict(X_val_test), y_val_test))"
   ]
  },
  {
   "cell_type": "code",
   "execution_count": 69,
   "metadata": {},
   "outputs": [
    {
     "name": "stdout",
     "output_type": "stream",
     "text": [
      "{'C': 5555.555600000001, 'class_weight': None, 'dual': False, 'fit_intercept': True, 'multi_class': 'multinomial', 'penalty': 'none', 'solver': 'sag', 'tol': 0.0089}\n"
     ]
    }
   ],
   "source": [
    "print(gs_lr.best_params_)"
   ]
  },
  {
   "cell_type": "markdown",
   "metadata": {},
   "source": [
    "### Gradient Boosting Classifier"
   ]
  },
  {
   "cell_type": "code",
   "execution_count": null,
   "metadata": {},
   "outputs": [
    {
     "name": "stdout",
     "output_type": "stream",
     "text": [
      "Fitting 10 folds for each of 35000 candidates, totalling 350000 fits\n"
     ]
    },
    {
     "name": "stderr",
     "output_type": "stream",
     "text": [
      "[Parallel(n_jobs=-1)]: Using backend LokyBackend with 12 concurrent workers.\n",
      "[Parallel(n_jobs=-1)]: Done  17 tasks      | elapsed:    6.6s\n",
      "[Parallel(n_jobs=-1)]: Done 143 tasks      | elapsed:   18.3s\n",
      "[Parallel(n_jobs=-1)]: Done 467 tasks      | elapsed:   43.4s\n",
      "[Parallel(n_jobs=-1)]: Done 904 tasks      | elapsed:  1.4min\n",
      "[Parallel(n_jobs=-1)]: Done 1523 tasks      | elapsed:  2.0min\n",
      "[Parallel(n_jobs=-1)]: Done 2202 tasks      | elapsed:  3.4min\n",
      "[Parallel(n_jobs=-1)]: Done 3395 tasks      | elapsed:  4.5min\n",
      "[Parallel(n_jobs=-1)]: Done 4512 tasks      | elapsed:  5.8min\n",
      "[Parallel(n_jobs=-1)]: Done 5746 tasks      | elapsed:  7.1min\n",
      "[Parallel(n_jobs=-1)]: Done 6886 tasks      | elapsed:  9.3min\n",
      "[Parallel(n_jobs=-1)]: Done 8376 tasks      | elapsed: 12.3min\n",
      "[Parallel(n_jobs=-1)]: Done 9732 tasks      | elapsed: 16.1min\n"
     ]
    }
   ],
   "source": [
    "pipe_gbc = GradientBoostingClassifier(random_state=123)\n",
    "\n",
    "learning_rate = np.linspace(0.001, 1, num=10)\n",
    "n_estimators = [50, 100, 200, 500]\n",
    "criteria = ['friedman_mse', 'mse', 'mae']\n",
    "min_samples_split = np.linspace(0, 20, num=10, dtype=int)\n",
    "min_samples_leaf = np.linspace(1e-2, 0.5, num=10)\n",
    "np.append(min_samples_leaf, int(1))\n",
    "min_weight_fraction_leaf = [0, 1]\n",
    "max_depth = np.arange(1, 21, 2)\n",
    "max_features = ['auto', 'sqrt', 'log2']\n",
    "\n",
    "param_grid_gbc = {'learning_rate': learning_rate,\n",
    "                  'n_estimators': n_estimators,\n",
    "                  'criterion': criteria,\n",
    "                  'min_samples_split': min_samples_split,\n",
    "                  'min_samples_leaf': min_samples_leaf,\n",
    "                  'min_weight_fraction_leaf': min_weight_fraction_leaf,\n",
    "                  'max_depth': max_depth,\n",
    "                  'max_features': max_features}\n",
    "\n",
    "gs_gbc = RandomizedSearchCV(estimator=pipe_gbc, param_distributions=param_grid_gbc, n_iter=35000,\n",
    "                            cv=10, verbose=2, n_jobs=-1)\n",
    "gs_gbc.fit(X_val_train, y_val_train)"
   ]
  },
  {
   "cell_type": "code",
   "execution_count": null,
   "metadata": {},
   "outputs": [],
   "source": [
    "print(classification_report(y_val_test, gs_gbc.predict(X_val_test)))"
   ]
  },
  {
   "cell_type": "code",
   "execution_count": null,
   "metadata": {},
   "outputs": [],
   "source": [
    "print(gs_gbc.best_params_)"
   ]
  },
  {
   "cell_type": "markdown",
   "metadata": {},
   "source": [
    "### LightGBM Classifier"
   ]
  },
  {
   "cell_type": "code",
   "execution_count": null,
   "metadata": {},
   "outputs": [],
   "source": [
    "pipe_light = LGBMClassifier(random_state=123)\n",
    "\n",
    "n_estimators = [int(x) for x in np.linspace(start=200, stop=2000, num=10)]\n",
    "max_features = ['auto', 'sqrt']\n",
    "max_depth = [int(x) for x in np.linspace(10, 110, num=11)]\n",
    "bootstrap = [True, False]\n",
    "\n",
    "param_grid_light = {'n_estimators': n_estimators,\n",
    "                    'max_features': max_features,\n",
    "                    'max_depth': max_depth,\n",
    "                    'bootstrap': bootstrap\n",
    "                    }\n",
    "\n",
    "gs_light = GridSearchCV(estimator=pipe_light, param_grid=param_grid_light, cv=5, verbose=2, n_jobs=-1)\n",
    "gs_light.fit(X_val_train, y_val_train);"
   ]
  },
  {
   "cell_type": "code",
   "execution_count": null,
   "metadata": {},
   "outputs": [],
   "source": [
    "print(classification_report(y_val_test, gs_light.predict(X_val_test)))"
   ]
  },
  {
   "cell_type": "code",
   "execution_count": null,
   "metadata": {
    "scrolled": false
   },
   "outputs": [],
   "source": [
    "print(gs_light.best_params_)"
   ]
  },
  {
   "cell_type": "markdown",
   "metadata": {},
   "source": [
    "### Random Forest"
   ]
  },
  {
   "cell_type": "code",
   "execution_count": null,
   "metadata": {
    "scrolled": true
   },
   "outputs": [],
   "source": [
    "n_estimators = [int(x) for x in np.linspace(start=200, stop=2000, num=10)]\n",
    "max_features = ['auto', 'sqrt']\n",
    "max_depth = [int(x) for x in np.linspace(10, 110, num=11)]\n",
    "min_samples_split = [2, 5, 10]\n",
    "min_samples_leaf = [1, 2, 4]\n",
    "bootstrap = [True, False]\n",
    "\n",
    "random_grid = {'n_estimators': n_estimators,\n",
    "               'max_features': max_features,\n",
    "               'max_depth': max_depth,\n",
    "               'min_samples_split': min_samples_split,\n",
    "               'min_samples_leaf': min_samples_leaf,\n",
    "               'bootstrap': bootstrap}\n",
    "\n",
    "rf = RandomForestClassifier(random_state=123)\n",
    "\n",
    "gs_rf = RandomizedSearchCV(estimator=rf, param_distributions=random_grid, cv=5, verbose=2, n_jobs=-1)\n",
    "\n",
    "gs_rf.fit(X_val_train, y_val_train);"
   ]
  },
  {
   "cell_type": "code",
   "execution_count": null,
   "metadata": {},
   "outputs": [],
   "source": [
    "print(classification_report(y_val_test, gs_rf.predict(X_val_test)))"
   ]
  },
  {
   "cell_type": "markdown",
   "metadata": {},
   "source": [
    "## Unsupervised training"
   ]
  },
  {
   "cell_type": "code",
   "execution_count": null,
   "metadata": {},
   "outputs": [],
   "source": [
    "from sklearn.cluster import KMeans"
   ]
  },
  {
   "cell_type": "code",
   "execution_count": null,
   "metadata": {},
   "outputs": [],
   "source": [
    "kmeans = KMeans(\n",
    "    n_clusters=3, \n",
    "    random_state=123\n",
    ").fit(X_val_train)"
   ]
  },
  {
   "cell_type": "code",
   "execution_count": null,
   "metadata": {},
   "outputs": [],
   "source": [
    "test_cluster = kmeans.predict(X_val_test)"
   ]
  },
  {
   "cell_type": "code",
   "execution_count": null,
   "metadata": {},
   "outputs": [],
   "source": [
    "X_val_train = np.append(X_val_train, np.expand_dims(kmeans.labels_, axis=1), axis=1)\n",
    "X_val_test = np.append(X_val_test, np.expand_dims(test_cluster, axis=1), axis=1)"
   ]
  },
  {
   "cell_type": "markdown",
   "metadata": {},
   "source": [
    "### Decision Tree Classifier"
   ]
  },
  {
   "cell_type": "code",
   "execution_count": null,
   "metadata": {},
   "outputs": [],
   "source": [
    "pipe_tree = make_pipeline(tree.DecisionTreeClassifier(random_state=123))\n",
    "\n",
    "depths = np.arange(1, 21)\n",
    "num_leafs = np.arange(1, 200, 5)\n",
    "\n",
    "param_grid_tree = [{'decisiontreeclassifier__max_depth': depths,\n",
    "                    'decisiontreeclassifier__min_samples_leaf': num_leafs}]\n",
    "\n",
    "gs_tree = RandomizedSearchCV(estimator=pipe_tree, param_distributions=param_grid_tree,\n",
    "                               n_iter=100, cv=3, verbose=2, random_state=123, n_jobs=-1)\n",
    "best_tree = gs_tree.fit(X_val_train, y_val_train);"
   ]
  },
  {
   "cell_type": "code",
   "execution_count": null,
   "metadata": {},
   "outputs": [],
   "source": [
    "print(classification_report(y_val_test,best_tree.predict(X_val_test)))"
   ]
  },
  {
   "cell_type": "code",
   "execution_count": null,
   "metadata": {},
   "outputs": [],
   "source": [
    "print(best_tree.best_params_)"
   ]
  },
  {
   "cell_type": "markdown",
   "metadata": {},
   "source": [
    "\n",
    "## Evaluation"
   ]
  },
  {
   "cell_type": "code",
   "execution_count": null,
   "metadata": {},
   "outputs": [],
   "source": [
    "model = tree.DecisionTreeClassifier(max_depth=7,min_samples_leaf=1,random_state=123)\n",
    "model.fit(X_train, y_train)\n",
    "\n",
    "print(classification_report(y_test,model.predict(X_test)))"
   ]
  }
 ],
 "metadata": {
  "kernelspec": {
   "display_name": "Python 3",
   "language": "python",
   "name": "python3"
  },
  "language_info": {
   "codemirror_mode": {
    "name": "ipython",
    "version": 3
   },
   "file_extension": ".py",
   "mimetype": "text/x-python",
   "name": "python",
   "nbconvert_exporter": "python",
   "pygments_lexer": "ipython3",
   "version": "3.8.3"
  }
 },
 "nbformat": 4,
 "nbformat_minor": 4
}
